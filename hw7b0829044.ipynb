{
 "cells": [
  {
   "cell_type": "code",
   "execution_count": 1,
   "id": "92a1daa6",
   "metadata": {},
   "outputs": [],
   "source": [
    "from tensorflow import keras\n",
    "from tensorflow.keras import layers\n",
    "\n",
    "model = keras.Sequential([\n",
    "    layers.Dense(64, activation=\"relu\"),\n",
    "    layers.Dense(10, activation=\"softmax\")\n",
    "])"
   ]
  },
  {
   "cell_type": "code",
   "execution_count": 2,
   "id": "dd58ae9d",
   "metadata": {},
   "outputs": [],
   "source": [
    "model = keras.Sequential()\n",
    "model.add(layers.Dense(64, activation=\"relu\"))\n",
    "model.add(layers.Dense(10, activation=\"softmax\"))"
   ]
  },
  {
   "cell_type": "code",
   "execution_count": 3,
   "id": "4d5e568b",
   "metadata": {},
   "outputs": [
    {
     "data": {
      "text/plain": [
       "[<tf.Variable 'dense_2/kernel:0' shape=(3, 64) dtype=float32, numpy=\n",
       " array([[ 0.22167951, -0.02899069, -0.16671824,  0.00189307, -0.09387453,\n",
       "          0.2037983 ,  0.1624352 , -0.2799866 , -0.06876937, -0.12438525,\n",
       "         -0.09038621,  0.06714672,  0.04439658, -0.01756173, -0.03156802,\n",
       "         -0.24248786,  0.04176214,  0.18758944, -0.04376587,  0.18360776,\n",
       "         -0.28486446, -0.21731307, -0.23630825, -0.2596571 ,  0.06505144,\n",
       "          0.13199887,  0.16524407, -0.26340616,  0.19601214, -0.14742112,\n",
       "          0.14369723, -0.11849803, -0.22190113, -0.19670978, -0.10589142,\n",
       "         -0.04116562,  0.28184915,  0.05287123,  0.03811172,  0.22078365,\n",
       "         -0.15468915,  0.17772737, -0.21764034,  0.2189827 ,  0.24346954,\n",
       "          0.27553636, -0.15166487, -0.01651022,  0.09154823, -0.02271709,\n",
       "          0.20773494,  0.20119685,  0.29544532, -0.06163548,  0.07420546,\n",
       "         -0.13773793, -0.01902249, -0.02070859, -0.25853717,  0.07974344,\n",
       "          0.21743691, -0.1749404 ,  0.04914647,  0.13054383],\n",
       "        [ 0.08413482,  0.29810035,  0.07051423,  0.23952371, -0.07246786,\n",
       "          0.0975582 , -0.16382825,  0.2920215 ,  0.19839051, -0.04410091,\n",
       "          0.17145401, -0.28809914, -0.01877657, -0.29513413, -0.22161224,\n",
       "          0.21598727, -0.15889058,  0.00037399,  0.14916986,  0.04767871,\n",
       "          0.13421613, -0.23642348,  0.27437836,  0.02674267, -0.25732106,\n",
       "          0.14131293,  0.2827825 ,  0.05345258, -0.20765898, -0.07359515,\n",
       "         -0.18904221,  0.13756382,  0.17580804, -0.05602086, -0.05457872,\n",
       "          0.186981  ,  0.12747133,  0.23223674, -0.19053316, -0.2544671 ,\n",
       "          0.17979154, -0.17990682, -0.14932753, -0.03786936,  0.24939662,\n",
       "         -0.17867608, -0.03401944, -0.12361762, -0.10757366,  0.26005167,\n",
       "          0.25878382,  0.0310193 ,  0.05173966,  0.17271137,  0.1133939 ,\n",
       "         -0.05418259,  0.25490183,  0.06015325, -0.13570638,  0.26659918,\n",
       "         -0.13619076, -0.02544236, -0.2802179 ,  0.20209843],\n",
       "        [-0.27194652, -0.13220842,  0.02488983, -0.13528293, -0.07217078,\n",
       "          0.17674643,  0.16869259,  0.17038137,  0.23748147,  0.1646061 ,\n",
       "          0.23502862,  0.28029972,  0.12374505,  0.12285158,  0.1563349 ,\n",
       "          0.26325613, -0.21762228,  0.2733612 , -0.22119978,  0.2824971 ,\n",
       "          0.04000756, -0.0409191 , -0.06767318,  0.00998694,  0.22439945,\n",
       "         -0.09520823,  0.18544745,  0.10540128,  0.24450535, -0.21501788,\n",
       "         -0.27216753, -0.16125853,  0.04600269, -0.01932815,  0.19833016,\n",
       "          0.28582656,  0.21004611,  0.27274626,  0.13410076,  0.21106076,\n",
       "         -0.11526826,  0.02072692,  0.27335054,  0.19102204,  0.26640832,\n",
       "         -0.2576073 , -0.02256647,  0.10686567, -0.24358013,  0.20520133,\n",
       "          0.11741617,  0.19677898,  0.27931267,  0.08909225,  0.15657285,\n",
       "          0.28540683, -0.2725847 , -0.27408722, -0.19898142, -0.1362437 ,\n",
       "         -0.24073593,  0.25836653,  0.20220745, -0.16829832]],\n",
       "       dtype=float32)>,\n",
       " <tf.Variable 'dense_2/bias:0' shape=(64,) dtype=float32, numpy=\n",
       " array([0., 0., 0., 0., 0., 0., 0., 0., 0., 0., 0., 0., 0., 0., 0., 0., 0.,\n",
       "        0., 0., 0., 0., 0., 0., 0., 0., 0., 0., 0., 0., 0., 0., 0., 0., 0.,\n",
       "        0., 0., 0., 0., 0., 0., 0., 0., 0., 0., 0., 0., 0., 0., 0., 0., 0.,\n",
       "        0., 0., 0., 0., 0., 0., 0., 0., 0., 0., 0., 0., 0.], dtype=float32)>,\n",
       " <tf.Variable 'dense_3/kernel:0' shape=(64, 10) dtype=float32, numpy=\n",
       " array([[ 0.28019717, -0.04444765,  0.22023621,  0.01487687, -0.10110231,\n",
       "         -0.22875677,  0.00161114,  0.2793208 ,  0.10851511,  0.18734306],\n",
       "        [-0.22995433,  0.0288659 , -0.27847436,  0.12806335, -0.2510863 ,\n",
       "         -0.26068586,  0.13535506,  0.23609707,  0.2592835 , -0.25737134],\n",
       "        [-0.22436067,  0.27286777, -0.18004757,  0.06330711, -0.20380822,\n",
       "         -0.02234638, -0.20007622, -0.08009599,  0.13141164, -0.16291496],\n",
       "        [-0.1965062 ,  0.19377005, -0.0953861 ,  0.14999607, -0.10676283,\n",
       "         -0.08935341, -0.19524401,  0.19209892,  0.21136019,  0.25865468],\n",
       "        [ 0.08322704,  0.2687578 ,  0.20150733, -0.10840017, -0.2662768 ,\n",
       "         -0.18068779,  0.1289005 ,  0.27285954, -0.17058615, -0.1274229 ],\n",
       "        [-0.21207085,  0.22631457,  0.25873628, -0.08463947,  0.20605445,\n",
       "          0.26551804, -0.07440357,  0.0857031 ,  0.10446656, -0.11064975],\n",
       "        [-0.15164429,  0.15514085,  0.01056606, -0.06067395, -0.26140937,\n",
       "         -0.15308502, -0.0756879 ,  0.08836007, -0.00774309, -0.27380964],\n",
       "        [ 0.16764086,  0.19958681, -0.04729614,  0.23108712,  0.2572724 ,\n",
       "          0.23309305,  0.26256147, -0.04817361,  0.24327329, -0.1565615 ],\n",
       "        [ 0.01086238, -0.22902812,  0.00967452, -0.00973114,  0.19977555,\n",
       "          0.03221384, -0.18318677,  0.15601838,  0.17820922,  0.26129988],\n",
       "        [-0.10269776,  0.04074383, -0.19202158,  0.19674978, -0.22057946,\n",
       "          0.0320203 , -0.08301388,  0.18703574,  0.19169605,  0.05545288],\n",
       "        [-0.24360757, -0.02569419,  0.24784145, -0.24242589, -0.18788564,\n",
       "         -0.24121386,  0.19469452,  0.11829767,  0.2777926 , -0.23024924],\n",
       "        [-0.12057275, -0.02734688,  0.12009639,  0.03848237,  0.08408943,\n",
       "         -0.16443235,  0.09189084, -0.24805559, -0.02890113, -0.06022297],\n",
       "        [ 0.12787232,  0.24762031, -0.05228293, -0.26068616, -0.16981989,\n",
       "          0.06943652, -0.06023695, -0.1989578 ,  0.28064933, -0.20649621],\n",
       "        [-0.09607586, -0.22384879, -0.15664168, -0.20761544,  0.08566296,\n",
       "         -0.21475357, -0.17115676, -0.15880339,  0.23032966, -0.25950494],\n",
       "        [ 0.14479244, -0.08000855, -0.17538816, -0.26999637,  0.1302658 ,\n",
       "         -0.19925156,  0.18009123,  0.25644872,  0.05119067, -0.19374412],\n",
       "        [ 0.22657105,  0.02025703, -0.19284108,  0.00194395, -0.12035951,\n",
       "         -0.1425052 , -0.20340848, -0.05894536, -0.15181734,  0.15245259],\n",
       "        [ 0.26636943, -0.09832476, -0.21397406, -0.14202978, -0.02330089,\n",
       "         -0.28455764,  0.02355301, -0.12165062,  0.26034865, -0.27555156],\n",
       "        [ 0.06727168, -0.27137622, -0.1999642 , -0.05888256, -0.03446084,\n",
       "          0.22188875, -0.19768523, -0.15705702, -0.00473261,  0.09736174],\n",
       "        [ 0.01503581, -0.15459265,  0.13499993,  0.26149938,  0.25329188,\n",
       "         -0.15245114, -0.25602964, -0.16284809,  0.18882427, -0.08733182],\n",
       "        [-0.26646772,  0.06638369,  0.07369637, -0.21940729, -0.04369769,\n",
       "          0.25272718,  0.12421459, -0.0578423 ,  0.17952245, -0.0289335 ],\n",
       "        [ 0.11368039,  0.01072845,  0.09599176, -0.2041541 ,  0.00803331,\n",
       "          0.17364442,  0.22870031, -0.2062438 , -0.19236042, -0.17859855],\n",
       "        [ 0.04118401, -0.18777749,  0.02674001,  0.21525213, -0.20204526,\n",
       "         -0.10881491, -0.15549822,  0.2522799 , -0.20965177,  0.16292208],\n",
       "        [ 0.19471964, -0.2148336 , -0.07707798,  0.07815057,  0.0666298 ,\n",
       "          0.02611116, -0.27885413, -0.13201335, -0.08762449, -0.01696649],\n",
       "        [-0.19218221, -0.22610617,  0.13199928, -0.15682822, -0.27271214,\n",
       "          0.11915001,  0.09593356, -0.21856777, -0.11572656,  0.16359285],\n",
       "        [-0.03773417, -0.21300745, -0.24301422,  0.13073927, -0.25981927,\n",
       "          0.07878521, -0.0448911 ,  0.0222061 , -0.05312897,  0.00236866],\n",
       "        [ 0.2820672 ,  0.21721628, -0.27474293, -0.22403963, -0.0901911 ,\n",
       "          0.21910354,  0.2201629 , -0.22593285, -0.22115406,  0.1468319 ],\n",
       "        [-0.01292399,  0.07414463,  0.22261938,  0.25380024,  0.19043583,\n",
       "          0.05626327, -0.1759464 ,  0.18248826,  0.09226191,  0.2636535 ],\n",
       "        [ 0.21168023, -0.04459782,  0.2117092 , -0.11530416,  0.00414944,\n",
       "          0.24311498,  0.23847732,  0.04946351,  0.19960079, -0.22984788],\n",
       "        [-0.13157669,  0.20572674,  0.27406606,  0.21117282, -0.08791865,\n",
       "         -0.2593997 ,  0.2207677 ,  0.2748042 ,  0.16609007, -0.22630753],\n",
       "        [ 0.23785707,  0.17085615,  0.28148416, -0.18993698, -0.00753188,\n",
       "         -0.07785858,  0.15932485, -0.16511464,  0.00934234,  0.04327968],\n",
       "        [-0.14446257, -0.28313562,  0.08378741,  0.1033119 ,  0.14433923,\n",
       "          0.2700154 , -0.23211667, -0.05506238, -0.18282105, -0.13976248],\n",
       "        [-0.18247834,  0.27857873, -0.07189044, -0.09418745, -0.21891618,\n",
       "         -0.07136145, -0.27145913, -0.02896711, -0.25532582, -0.24934033],\n",
       "        [-0.13986784,  0.11323252, -0.2672935 ,  0.08066118,  0.00145167,\n",
       "         -0.13761719,  0.25769863, -0.25525746, -0.26625666, -0.22937381],\n",
       "        [-0.14993457, -0.14975128, -0.2585736 ,  0.0373185 , -0.10940371,\n",
       "         -0.23929091, -0.23626149, -0.14820027,  0.16715667,  0.06594634],\n",
       "        [-0.22238931, -0.00569853, -0.15898514, -0.2485968 ,  0.03773844,\n",
       "          0.1966457 , -0.23050532,  0.02470192,  0.07553583,  0.00773561],\n",
       "        [ 0.2270002 ,  0.19924232, -0.2305893 , -0.07844067,  0.1547113 ,\n",
       "          0.10219836, -0.11474027,  0.07212201, -0.0713601 ,  0.11142653],\n",
       "        [ 0.00386962, -0.24110918,  0.12096345,  0.23698989, -0.08326329,\n",
       "          0.1343146 ,  0.1854918 ,  0.08786684, -0.20503008, -0.08318223],\n",
       "        [-0.26710927,  0.28104344,  0.2649313 ,  0.0110108 ,  0.22004542,\n",
       "         -0.19346334,  0.20246461,  0.0973084 , -0.08460946,  0.09594178],\n",
       "        [-0.28323516, -0.18358324,  0.18379262,  0.00720304,  0.11983147,\n",
       "         -0.10470028,  0.10477537, -0.10717349,  0.08899367, -0.27990997],\n",
       "        [-0.06788099, -0.20394352, -0.15776862,  0.14337716,  0.14660019,\n",
       "         -0.21291302,  0.24347505,  0.10037202,  0.1533851 , -0.02021396],\n",
       "        [ 0.086227  , -0.16436976, -0.04372165,  0.02924952,  0.16176364,\n",
       "         -0.01541388,  0.24800602,  0.03898028, -0.06903286,  0.17170572],\n",
       "        [-0.01526913,  0.07794961,  0.13156441,  0.18977588, -0.01551422,\n",
       "          0.08710507, -0.15599462, -0.09879564,  0.00862387,  0.09715042],\n",
       "        [-0.22798452, -0.13466394, -0.2368824 , -0.2176089 , -0.13417195,\n",
       "          0.23930225, -0.22336107, -0.25365543, -0.22507012,  0.26206884],\n",
       "        [-0.27733445,  0.04857945, -0.07851547,  0.19994777, -0.05175252,\n",
       "          0.26711795,  0.23430309,  0.02511752, -0.20594169,  0.02279457],\n",
       "        [-0.00889292, -0.0540124 ,  0.08256704, -0.22105542,  0.17067224,\n",
       "         -0.05865493,  0.15982899, -0.16135922,  0.09930474, -0.19440693],\n",
       "        [-0.18374251,  0.24814323, -0.04881482, -0.21133704,  0.0729565 ,\n",
       "          0.15238944, -0.00928363,  0.20137283,  0.25524   , -0.23658845],\n",
       "        [-0.1394787 ,  0.23159495,  0.03067166, -0.08913651, -0.13736837,\n",
       "         -0.03159645, -0.26227936,  0.09439838,  0.02250001, -0.06316929],\n",
       "        [-0.08381829,  0.07883611, -0.27232844,  0.05719355, -0.1204997 ,\n",
       "          0.11077526, -0.2479378 ,  0.02006942, -0.16628727,  0.2687467 ],\n",
       "        [-0.2731881 , -0.1827577 , -0.22324166, -0.07646577, -0.03088832,\n",
       "         -0.18449812,  0.28264847,  0.27713886,  0.05725995, -0.05057959],\n",
       "        [-0.00658429,  0.00295359,  0.0465495 ,  0.03019345, -0.27919033,\n",
       "         -0.19544455,  0.12430719,  0.03905007,  0.08144462,  0.266162  ],\n",
       "        [-0.11100461, -0.09033374,  0.27980635,  0.15250349, -0.0985494 ,\n",
       "          0.03961504,  0.1451059 ,  0.06001195,  0.19065309,  0.26953217],\n",
       "        [ 0.28100643,  0.07654473,  0.2172127 ,  0.07165977, -0.12202422,\n",
       "          0.05790088, -0.05934101,  0.2022894 ,  0.25845495, -0.16421613],\n",
       "        [ 0.02966699, -0.13750286, -0.10756724, -0.1902623 , -0.260805  ,\n",
       "         -0.2571701 ,  0.18791932, -0.1391618 ,  0.05348471,  0.24326655],\n",
       "        [-0.11626512, -0.05136181, -0.08713412,  0.04363719, -0.08888893,\n",
       "          0.16070849,  0.12395477, -0.00784317, -0.0384946 ,  0.16788879],\n",
       "        [-0.26540864, -0.02211148, -0.27780187,  0.16367051,  0.2540377 ,\n",
       "          0.13550699, -0.13476598, -0.02681577,  0.25150618, -0.19896446],\n",
       "        [-0.18811497, -0.08215235, -0.00495955, -0.2099743 ,  0.20606369,\n",
       "         -0.17177394,  0.15632373,  0.1996705 ,  0.07025623,  0.2710878 ],\n",
       "        [ 0.27096626,  0.16870347, -0.16063416, -0.11271127,  0.01212636,\n",
       "          0.01811811,  0.10905477,  0.24079159,  0.08087102, -0.10145913],\n",
       "        [ 0.0207957 ,  0.11116299,  0.10998809,  0.22754475,  0.21410346,\n",
       "         -0.22371498,  0.18403465,  0.09894982, -0.13490902,  0.00106722],\n",
       "        [ 0.06364077, -0.18708564, -0.00763711, -0.08006687,  0.14181626,\n",
       "          0.08292094,  0.2613618 , -0.24076892,  0.02818373,  0.18387449],\n",
       "        [-0.05989629,  0.26222274, -0.2350139 , -0.16030191, -0.12189434,\n",
       "         -0.18351915, -0.19797206,  0.07782829,  0.22358188, -0.08849055],\n",
       "        [-0.1840474 ,  0.16414645,  0.20921531, -0.06741059,  0.16578335,\n",
       "         -0.16489759,  0.26710448, -0.10484414,  0.16572809,  0.26179758],\n",
       "        [ 0.24180058, -0.25012505, -0.21448818, -0.12983152, -0.09452473,\n",
       "         -0.2689761 ,  0.24559543, -0.23988867, -0.2572033 , -0.02113754],\n",
       "        [ 0.09078261, -0.10025918, -0.25643635, -0.15242386,  0.25557968,\n",
       "          0.23853555, -0.01476851, -0.04949731,  0.16201231, -0.08216186],\n",
       "        [-0.09326647,  0.24782118, -0.01653302, -0.16519861,  0.08278564,\n",
       "         -0.04484914, -0.08223939,  0.06745756,  0.10191336, -0.20866445]],\n",
       "       dtype=float32)>,\n",
       " <tf.Variable 'dense_3/bias:0' shape=(10,) dtype=float32, numpy=array([0., 0., 0., 0., 0., 0., 0., 0., 0., 0.], dtype=float32)>]"
      ]
     },
     "execution_count": 3,
     "metadata": {},
     "output_type": "execute_result"
    }
   ],
   "source": [
    "model.build(input_shape=(None, 3))\n",
    "model.weights"
   ]
  },
  {
   "cell_type": "code",
   "execution_count": 4,
   "id": "aa30fbc7",
   "metadata": {},
   "outputs": [
    {
     "name": "stdout",
     "output_type": "stream",
     "text": [
      "Model: \"sequential_1\"\n",
      "_________________________________________________________________\n",
      " Layer (type)                Output Shape              Param #   \n",
      "=================================================================\n",
      " dense_2 (Dense)             (None, 64)                256       \n",
      "                                                                 \n",
      " dense_3 (Dense)             (None, 10)                650       \n",
      "                                                                 \n",
      "=================================================================\n",
      "Total params: 906\n",
      "Trainable params: 906\n",
      "Non-trainable params: 0\n",
      "_________________________________________________________________\n"
     ]
    }
   ],
   "source": [
    "model.summary()"
   ]
  },
  {
   "cell_type": "code",
   "execution_count": 5,
   "id": "78aca2ba",
   "metadata": {},
   "outputs": [
    {
     "name": "stdout",
     "output_type": "stream",
     "text": [
      "Model: \"my_example_model\"\n",
      "_________________________________________________________________\n",
      " Layer (type)                Output Shape              Param #   \n",
      "=================================================================\n",
      " my_first_layer (Dense)      (None, 64)                256       \n",
      "                                                                 \n",
      " my_last_layer (Dense)       (None, 10)                650       \n",
      "                                                                 \n",
      "=================================================================\n",
      "Total params: 906\n",
      "Trainable params: 906\n",
      "Non-trainable params: 0\n",
      "_________________________________________________________________\n"
     ]
    }
   ],
   "source": [
    "model = keras.Sequential(name=\"my_example_model\")\n",
    "model.add(layers.Dense(64, activation=\"relu\", name=\"my_first_layer\"))\n",
    "model.add(layers.Dense(10, activation=\"softmax\", name=\"my_last_layer\"))\n",
    "model.build((None, 3))\n",
    "model.summary()"
   ]
  },
  {
   "cell_type": "code",
   "execution_count": 6,
   "id": "34e11620",
   "metadata": {},
   "outputs": [],
   "source": [
    "model = keras.Sequential()\n",
    "model.add(keras.Input(shape=(3,)))\n",
    "model.add(layers.Dense(64, activation=\"relu\"))"
   ]
  },
  {
   "cell_type": "code",
   "execution_count": 7,
   "id": "03c7aa16",
   "metadata": {},
   "outputs": [
    {
     "name": "stdout",
     "output_type": "stream",
     "text": [
      "Model: \"sequential_2\"\n",
      "_________________________________________________________________\n",
      " Layer (type)                Output Shape              Param #   \n",
      "=================================================================\n",
      " dense_4 (Dense)             (None, 64)                256       \n",
      "                                                                 \n",
      "=================================================================\n",
      "Total params: 256\n",
      "Trainable params: 256\n",
      "Non-trainable params: 0\n",
      "_________________________________________________________________\n"
     ]
    }
   ],
   "source": [
    "model.summary()"
   ]
  },
  {
   "cell_type": "code",
   "execution_count": 8,
   "id": "36e93b4a",
   "metadata": {},
   "outputs": [
    {
     "name": "stdout",
     "output_type": "stream",
     "text": [
      "Model: \"sequential_2\"\n",
      "_________________________________________________________________\n",
      " Layer (type)                Output Shape              Param #   \n",
      "=================================================================\n",
      " dense_4 (Dense)             (None, 64)                256       \n",
      "                                                                 \n",
      " dense_5 (Dense)             (None, 10)                650       \n",
      "                                                                 \n",
      "=================================================================\n",
      "Total params: 906\n",
      "Trainable params: 906\n",
      "Non-trainable params: 0\n",
      "_________________________________________________________________\n"
     ]
    }
   ],
   "source": [
    "model.add(layers.Dense(10, activation=\"softmax\"))\n",
    "model.summary()"
   ]
  },
  {
   "cell_type": "code",
   "execution_count": 9,
   "id": "da51ff4c",
   "metadata": {},
   "outputs": [],
   "source": [
    "inputs = keras.Input(shape=(3,), name=\"my_input\")\n",
    "features = layers.Dense(64, activation=\"relu\")(inputs)\n",
    "outputs = layers.Dense(10, activation=\"softmax\")(features)\n",
    "model = keras.Model(inputs=inputs, outputs=outputs)"
   ]
  },
  {
   "cell_type": "code",
   "execution_count": 10,
   "id": "bf3cffc6",
   "metadata": {},
   "outputs": [],
   "source": [
    "inputs = keras.Input(shape=(3,), name=\"my_input\")"
   ]
  },
  {
   "cell_type": "code",
   "execution_count": 11,
   "id": "038c348c",
   "metadata": {},
   "outputs": [
    {
     "data": {
      "text/plain": [
       "TensorShape([None, 3])"
      ]
     },
     "execution_count": 11,
     "metadata": {},
     "output_type": "execute_result"
    }
   ],
   "source": [
    "inputs.shape"
   ]
  },
  {
   "cell_type": "code",
   "execution_count": 12,
   "id": "4a5d6fd5",
   "metadata": {},
   "outputs": [
    {
     "data": {
      "text/plain": [
       "tf.float32"
      ]
     },
     "execution_count": 12,
     "metadata": {},
     "output_type": "execute_result"
    }
   ],
   "source": [
    "inputs.dtype"
   ]
  },
  {
   "cell_type": "code",
   "execution_count": 13,
   "id": "3b347908",
   "metadata": {},
   "outputs": [],
   "source": [
    "features = layers.Dense(64, activation=\"relu\")(inputs)"
   ]
  },
  {
   "cell_type": "code",
   "execution_count": 14,
   "id": "ffd660cb",
   "metadata": {},
   "outputs": [
    {
     "data": {
      "text/plain": [
       "TensorShape([None, 64])"
      ]
     },
     "execution_count": 14,
     "metadata": {},
     "output_type": "execute_result"
    }
   ],
   "source": [
    "features.shape"
   ]
  },
  {
   "cell_type": "code",
   "execution_count": 15,
   "id": "9124459f",
   "metadata": {},
   "outputs": [],
   "source": [
    "outputs = layers.Dense(10, activation=\"softmax\")(features)\n",
    "model = keras.Model(inputs=inputs, outputs=outputs)"
   ]
  },
  {
   "cell_type": "code",
   "execution_count": 16,
   "id": "553e7bb9",
   "metadata": {},
   "outputs": [
    {
     "name": "stdout",
     "output_type": "stream",
     "text": [
      "Model: \"model_1\"\n",
      "_________________________________________________________________\n",
      " Layer (type)                Output Shape              Param #   \n",
      "=================================================================\n",
      " my_input (InputLayer)       [(None, 3)]               0         \n",
      "                                                                 \n",
      " dense_8 (Dense)             (None, 64)                256       \n",
      "                                                                 \n",
      " dense_9 (Dense)             (None, 10)                650       \n",
      "                                                                 \n",
      "=================================================================\n",
      "Total params: 906\n",
      "Trainable params: 906\n",
      "Non-trainable params: 0\n",
      "_________________________________________________________________\n"
     ]
    }
   ],
   "source": [
    "model.summary()"
   ]
  },
  {
   "cell_type": "code",
   "execution_count": 17,
   "id": "d1946ea3",
   "metadata": {},
   "outputs": [],
   "source": [
    "vocabulary_size = 10000\n",
    "num_tags = 100\n",
    "num_departments = 4\n",
    "\n",
    "title = keras.Input(shape=(vocabulary_size,), name=\"title\")\n",
    "text_body = keras.Input(shape=(vocabulary_size,), name=\"text_body\")\n",
    "tags = keras.Input(shape=(num_tags,), name=\"tags\")\n",
    "\n",
    "features = layers.Concatenate()([title, text_body, tags])\n",
    "features = layers.Dense(64, activation=\"relu\")(features)\n",
    "\n",
    "priority = layers.Dense(1, activation=\"sigmoid\", name=\"priority\")(features)\n",
    "department = layers.Dense(\n",
    "    num_departments, activation=\"softmax\", name=\"department\")(features)\n",
    "\n",
    "model = keras.Model(inputs=[title, text_body, tags], outputs=[priority, department])"
   ]
  },
  {
   "cell_type": "code",
   "execution_count": 18,
   "id": "899250c1",
   "metadata": {},
   "outputs": [
    {
     "name": "stdout",
     "output_type": "stream",
     "text": [
      "40/40 [==============================] - 1s 13ms/step - loss: 28.0488 - priority_loss: 0.3320 - department_loss: 27.7168 - priority_mean_absolute_error: 0.5007 - department_accuracy: 0.2430\n",
      "40/40 [==============================] - 0s 4ms/step - loss: 32.7557 - priority_loss: 0.3263 - department_loss: 32.4294 - priority_mean_absolute_error: 0.4943 - department_accuracy: 0.2445\n",
      "40/40 [==============================] - 0s 4ms/step\n"
     ]
    }
   ],
   "source": [
    "import numpy as np\n",
    "\n",
    "num_samples = 1280\n",
    "\n",
    "title_data = np.random.randint(0, 2, size=(num_samples, vocabulary_size))\n",
    "text_body_data = np.random.randint(0, 2, size=(num_samples, vocabulary_size))\n",
    "tags_data = np.random.randint(0, 2, size=(num_samples, num_tags))\n",
    "\n",
    "priority_data = np.random.random(size=(num_samples, 1))\n",
    "department_data = np.random.randint(0, 2, size=(num_samples, num_departments))\n",
    "\n",
    "model.compile(optimizer=\"rmsprop\",\n",
    "              loss=[\"mean_squared_error\", \"categorical_crossentropy\"],\n",
    "              metrics=[[\"mean_absolute_error\"], [\"accuracy\"]])\n",
    "model.fit([title_data, text_body_data, tags_data],\n",
    "          [priority_data, department_data],\n",
    "          epochs=1)\n",
    "model.evaluate([title_data, text_body_data, tags_data],\n",
    "               [priority_data, department_data])\n",
    "priority_preds, department_preds = model.predict([title_data, text_body_data, tags_data])"
   ]
  },
  {
   "cell_type": "code",
   "execution_count": 19,
   "id": "cd74d8ca",
   "metadata": {},
   "outputs": [
    {
     "name": "stdout",
     "output_type": "stream",
     "text": [
      "40/40 [==============================] - 1s 13ms/step - loss: 41.6168 - priority_loss: 0.3269 - department_loss: 41.2900 - priority_mean_absolute_error: 0.4949 - department_accuracy: 0.2469\n",
      "40/40 [==============================] - 0s 4ms/step - loss: 41.3384 - priority_loss: 0.3263 - department_loss: 41.0121 - priority_mean_absolute_error: 0.4943 - department_accuracy: 0.2445\n",
      "40/40 [==============================] - 0s 4ms/step\n"
     ]
    }
   ],
   "source": [
    "model.compile(optimizer=\"rmsprop\",\n",
    "              loss={\"priority\": \"mean_squared_error\", \"department\": \"categorical_crossentropy\"},\n",
    "              metrics={\"priority\": [\"mean_absolute_error\"], \"department\": [\"accuracy\"]})\n",
    "model.fit({\"title\": title_data, \"text_body\": text_body_data, \"tags\": tags_data},\n",
    "          {\"priority\": priority_data, \"department\": department_data},\n",
    "          epochs=1)\n",
    "model.evaluate({\"title\": title_data, \"text_body\": text_body_data, \"tags\": tags_data},\n",
    "               {\"priority\": priority_data, \"department\": department_data})\n",
    "priority_preds, department_preds = model.predict(\n",
    "    {\"title\": title_data, \"text_body\": text_body_data, \"tags\": tags_data})"
   ]
  },
  {
   "cell_type": "code",
   "execution_count": 20,
   "id": "93b2d9e2",
   "metadata": {},
   "outputs": [
    {
     "data": {
      "image/png": "[encoded data removed]",
      "text/plain": [
       "<IPython.core.display.Image object>"
      ]
     },
     "execution_count": 20,
     "metadata": {},
     "output_type": "execute_result"
    }
   ],
   "source": [
    "keras.utils.plot_model(model, \"ticket_classifier.png\")"
   ]
  },
  {
   "cell_type": "code",
   "execution_count": 21,
   "id": "3a1250f7",
   "metadata": {},
   "outputs": [
    {
     "data": {
      "image/png": "[encoded data removed]",
      "text/plain": [
       "<IPython.core.display.Image object>"
      ]
     },
     "execution_count": 21,
     "metadata": {},
     "output_type": "execute_result"
    }
   ],
   "source": [
    "keras.utils.plot_model(model, \"ticket_classifier_with_shape_info.png\", show_shapes=True)"
   ]
  },
  {
   "cell_type": "code",
   "execution_count": 22,
   "id": "b9111e6e",
   "metadata": {},
   "outputs": [
    {
     "data": {
      "text/plain": [
       "[<keras.engine.input_layer.InputLayer at 0x21e595b40a0>,\n",
       " <keras.engine.input_layer.InputLayer at 0x21e595b4fd0>,\n",
       " <keras.engine.input_layer.InputLayer at 0x21e595b3af0>,\n",
       " <keras.layers.merging.concatenate.Concatenate at 0x21e595b3b80>,\n",
       " <keras.layers.core.dense.Dense at 0x21e595b3250>,\n",
       " <keras.layers.core.dense.Dense at 0x21e4e391e80>,\n",
       " <keras.layers.core.dense.Dense at 0x21e595a47c0>]"
      ]
     },
     "execution_count": 22,
     "metadata": {},
     "output_type": "execute_result"
    }
   ],
   "source": [
    "model.layers"
   ]
  },
  {
   "cell_type": "code",
   "execution_count": 23,
   "id": "02f05d2b",
   "metadata": {},
   "outputs": [
    {
     "data": {
      "text/plain": [
       "[<KerasTensor: shape=(None, 10000) dtype=float32 (created by layer 'title')>,\n",
       " <KerasTensor: shape=(None, 10000) dtype=float32 (created by layer 'text_body')>,\n",
       " <KerasTensor: shape=(None, 100) dtype=float32 (created by layer 'tags')>]"
      ]
     },
     "execution_count": 23,
     "metadata": {},
     "output_type": "execute_result"
    }
   ],
   "source": [
    "model.layers[3].input"
   ]
  },
  {
   "cell_type": "code",
   "execution_count": 24,
   "id": "8f9c4541",
   "metadata": {},
   "outputs": [
    {
     "data": {
      "text/plain": [
       "<KerasTensor: shape=(None, 20100) dtype=float32 (created by layer 'concatenate')>"
      ]
     },
     "execution_count": 24,
     "metadata": {},
     "output_type": "execute_result"
    }
   ],
   "source": [
    "model.layers[3].output"
   ]
  },
  {
   "cell_type": "code",
   "execution_count": 25,
   "id": "7076b21c",
   "metadata": {},
   "outputs": [],
   "source": [
    "features = model.layers[4].output\n",
    "difficulty = layers.Dense(3, activation=\"softmax\", name=\"difficulty\")(features)\n",
    "\n",
    "new_model = keras.Model(\n",
    "    inputs=[title, text_body, tags],\n",
    "    outputs=[priority, department, difficulty])"
   ]
  },
  {
   "cell_type": "code",
   "execution_count": 26,
   "id": "d35526d2",
   "metadata": {},
   "outputs": [
    {
     "data": {
      "image/png": "[encoded data removed]",
      "text/plain": [
       "<IPython.core.display.Image object>"
      ]
     },
     "execution_count": 26,
     "metadata": {},
     "output_type": "execute_result"
    }
   ],
   "source": [
    "keras.utils.plot_model(new_model, \"updated_ticket_classifier.png\", show_shapes=True)"
   ]
  },
  {
   "cell_type": "code",
   "execution_count": 27,
   "id": "f62edc2a",
   "metadata": {},
   "outputs": [],
   "source": [
    "class CustomerTicketModel(keras.Model):\n",
    "\n",
    "    def __init__(self, num_departments):\n",
    "        super().__init__()\n",
    "        self.concat_layer = layers.Concatenate()\n",
    "        self.mixing_layer = layers.Dense(64, activation=\"relu\")\n",
    "        self.priority_scorer = layers.Dense(1, activation=\"sigmoid\")\n",
    "        self.department_classifier = layers.Dense(\n",
    "            num_departments, activation=\"softmax\")\n",
    "\n",
    "    def call(self, inputs):\n",
    "        title = inputs[\"title\"]\n",
    "        text_body = inputs[\"text_body\"]\n",
    "        tags = inputs[\"tags\"]\n",
    "\n",
    "        features = self.concat_layer([title, text_body, tags])\n",
    "        features = self.mixing_layer(features)\n",
    "        priority = self.priority_scorer(features)\n",
    "        department = self.department_classifier(features)\n",
    "        return priority, department"
   ]
  },
  {
   "cell_type": "code",
   "execution_count": 28,
   "id": "3f463e16",
   "metadata": {},
   "outputs": [],
   "source": [
    "model = CustomerTicketModel(num_departments=4)\n",
    "\n",
    "priority, department = model(\n",
    "    {\"title\": title_data, \"text_body\": text_body_data, \"tags\": tags_data})"
   ]
  },
  {
   "cell_type": "code",
   "execution_count": 29,
   "id": "19ca0be6",
   "metadata": {},
   "outputs": [
    {
     "name": "stdout",
     "output_type": "stream",
     "text": [
      "40/40 [==============================] - 1s 12ms/step - loss: 21.7298 - output_1_loss: 0.3200 - output_2_loss: 21.4097 - output_1_mean_absolute_error: 0.4889 - output_2_accuracy: 0.3023\n",
      "40/40 [==============================] - 0s 4ms/step - loss: 15.1435 - output_1_loss: 0.3263 - output_2_loss: 14.8172 - output_1_mean_absolute_error: 0.4943 - output_2_accuracy: 0.2461\n",
      "40/40 [==============================] - 0s 4ms/step\n"
     ]
    }
   ],
   "source": [
    "model.compile(optimizer=\"rmsprop\",\n",
    "              loss=[\"mean_squared_error\", \"categorical_crossentropy\"],\n",
    "              metrics=[[\"mean_absolute_error\"], [\"accuracy\"]])\n",
    "model.fit({\"title\": title_data,\n",
    "           \"text_body\": text_body_data,\n",
    "           \"tags\": tags_data},\n",
    "          [priority_data, department_data],\n",
    "          epochs=1)\n",
    "model.evaluate({\"title\": title_data,\n",
    "                \"text_body\": text_body_data,\n",
    "                \"tags\": tags_data},\n",
    "               [priority_data, department_data])\n",
    "priority_preds, department_preds = model.predict({\"title\": title_data,\n",
    "                                                  \"text_body\": text_body_data,\n",
    "                                                  \"tags\": tags_data})"
   ]
  },
  {
   "cell_type": "code",
   "execution_count": 30,
   "id": "80185f9e",
   "metadata": {},
   "outputs": [],
   "source": [
    "class Classifier(keras.Model):\n",
    "\n",
    "    def __init__(self, num_classes=2):\n",
    "        super().__init__()\n",
    "        if num_classes == 2:\n",
    "            num_units = 1\n",
    "            activation = \"sigmoid\"\n",
    "        else:\n",
    "            num_units = num_classes\n",
    "            activation = \"softmax\"\n",
    "        self.dense = layers.Dense(num_units, activation=activation)\n",
    "\n",
    "    def call(self, inputs):\n",
    "        return self.dense(inputs)\n",
    "\n",
    "inputs = keras.Input(shape=(3,))\n",
    "features = layers.Dense(64, activation=\"relu\")(inputs)\n",
    "outputs = Classifier(num_classes=10)(features)\n",
    "model = keras.Model(inputs=inputs, outputs=outputs)"
   ]
  },
  {
   "cell_type": "code",
   "execution_count": 31,
   "id": "a7ebe8e8",
   "metadata": {},
   "outputs": [],
   "source": [
    "inputs = keras.Input(shape=(64,))\n",
    "outputs = layers.Dense(1, activation=\"sigmoid\")(inputs)\n",
    "binary_classifier = keras.Model(inputs=inputs, outputs=outputs)\n",
    "\n",
    "class MyModel(keras.Model):\n",
    "\n",
    "    def __init__(self, num_classes=2):\n",
    "        super().__init__()\n",
    "        self.dense = layers.Dense(64, activation=\"relu\")\n",
    "        self.classifier = binary_classifier\n",
    "\n",
    "    def call(self, inputs):\n",
    "        features = self.dense(inputs)\n",
    "        return self.classifier(features)\n",
    "\n",
    "model = MyModel()"
   ]
  },
  {
   "cell_type": "code",
   "execution_count": 32,
   "id": "8ab4d285",
   "metadata": {},
   "outputs": [
    {
     "name": "stdout",
     "output_type": "stream",
     "text": [
      "Epoch 1/3\n",
      "1563/1563 [==============================] - 8s 5ms/step - loss: 0.2951 - accuracy: 0.9130 - val_loss: 0.1452 - val_accuracy: 0.9594\n",
      "Epoch 2/3\n",
      "1563/1563 [==============================] - 8s 5ms/step - loss: 0.1637 - accuracy: 0.9536 - val_loss: 0.1269 - val_accuracy: 0.9650\n",
      "Epoch 3/3\n",
      "1563/1563 [==============================] - 8s 5ms/step - loss: 0.1438 - accuracy: 0.9615 - val_loss: 0.1105 - val_accuracy: 0.9701\n",
      "313/313 [==============================] - 1s 2ms/step - loss: 0.1035 - accuracy: 0.9726\n",
      "313/313 [==============================] - 0s 1ms/step\n"
     ]
    }
   ],
   "source": [
    "from tensorflow.keras.datasets import mnist\n",
    "\n",
    "def get_mnist_model():\n",
    "    inputs = keras.Input(shape=(28 * 28,))\n",
    "    features = layers.Dense(512, activation=\"relu\")(inputs)\n",
    "    features = layers.Dropout(0.5)(features)\n",
    "    outputs = layers.Dense(10, activation=\"softmax\")(features)\n",
    "    model = keras.Model(inputs, outputs)\n",
    "    return model\n",
    "\n",
    "(images, labels), (test_images, test_labels) = mnist.load_data()\n",
    "images = images.reshape((60000, 28 * 28)).astype(\"float32\") / 255\n",
    "test_images = test_images.reshape((10000, 28 * 28)).astype(\"float32\") / 255\n",
    "train_images, val_images = images[10000:], images[:10000]\n",
    "train_labels, val_labels = labels[10000:], labels[:10000]\n",
    "\n",
    "model = get_mnist_model()\n",
    "model.compile(optimizer=\"rmsprop\",\n",
    "              loss=\"sparse_categorical_crossentropy\",\n",
    "              metrics=[\"accuracy\"])\n",
    "model.fit(train_images, train_labels,\n",
    "          epochs=3,\n",
    "          validation_data=(val_images, val_labels))\n",
    "test_metrics = model.evaluate(test_images, test_labels)\n",
    "predictions = model.predict(test_images)"
   ]
  },
  {
   "cell_type": "code",
   "execution_count": 33,
   "id": "62f0f0b4",
   "metadata": {},
   "outputs": [],
   "source": [
    "import tensorflow as tf\n",
    "\n",
    "class RootMeanSquaredError(keras.metrics.Metric):\n",
    "\n",
    "    def __init__(self, name=\"rmse\", **kwargs):\n",
    "        super().__init__(name=name, **kwargs)\n",
    "        self.mse_sum = self.add_weight(name=\"mse_sum\", initializer=\"zeros\")\n",
    "        self.total_samples = self.add_weight(\n",
    "            name=\"total_samples\", initializer=\"zeros\", dtype=\"int32\")\n",
    "\n",
    "    def update_state(self, y_true, y_pred, sample_weight=None):\n",
    "        y_true = tf.one_hot(y_true, depth=tf.shape(y_pred)[1])\n",
    "        mse = tf.reduce_sum(tf.square(y_true - y_pred))\n",
    "        self.mse_sum.assign_add(mse)\n",
    "        num_samples = tf.shape(y_pred)[0]\n",
    "        self.total_samples.assign_add(num_samples)\n",
    "\n",
    "    def result(self):\n",
    "        return tf.sqrt(self.mse_sum / tf.cast(self.total_samples, tf.float32))\n",
    "\n",
    "    def reset_state(self):\n",
    "        self.mse_sum.assign(0.)\n",
    "        self.total_samples.assign(0)"
   ]
  },
  {
   "cell_type": "code",
   "execution_count": 34,
   "id": "b72371e4",
   "metadata": {},
   "outputs": [
    {
     "name": "stdout",
     "output_type": "stream",
     "text": [
      "Epoch 1/3\n",
      "1563/1563 [==============================] - 9s 5ms/step - loss: 0.2942 - accuracy: 0.9131 - rmse: 7.1869 - val_loss: 0.1583 - val_accuracy: 0.9569 - val_rmse: 7.3618\n",
      "Epoch 2/3\n",
      "1563/1563 [==============================] - 8s 5ms/step - loss: 0.1664 - accuracy: 0.9531 - rmse: 7.3530 - val_loss: 0.1315 - val_accuracy: 0.9637 - val_rmse: 7.3996\n",
      "Epoch 3/3\n",
      "1563/1563 [==============================] - 8s 5ms/step - loss: 0.1410 - accuracy: 0.9621 - rmse: 7.3859 - val_loss: 0.1193 - val_accuracy: 0.9699 - val_rmse: 7.4221\n",
      "313/313 [==============================] - 1s 2ms/step - loss: 0.1084 - accuracy: 0.9723 - rmse: 7.4336\n"
     ]
    }
   ],
   "source": [
    "model = get_mnist_model()\n",
    "model.compile(optimizer=\"rmsprop\",\n",
    "              loss=\"sparse_categorical_crossentropy\",\n",
    "              metrics=[\"accuracy\", RootMeanSquaredError()])\n",
    "model.fit(train_images, train_labels,\n",
    "          epochs=3,\n",
    "          validation_data=(val_images, val_labels))\n",
    "test_metrics = model.evaluate(test_images, test_labels)"
   ]
  },
  {
   "cell_type": "code",
   "execution_count": 35,
   "id": "5ed3b153",
   "metadata": {},
   "outputs": [
    {
     "name": "stdout",
     "output_type": "stream",
     "text": [
      "Epoch 1/10\n",
      "1563/1563 [==============================] - 8s 5ms/step - loss: 0.2966 - accuracy: 0.9123 - val_loss: 0.1488 - val_accuracy: 0.9559\n",
      "Epoch 2/10\n",
      "1563/1563 [==============================] - 8s 5ms/step - loss: 0.1665 - accuracy: 0.9538 - val_loss: 0.1221 - val_accuracy: 0.9664\n",
      "Epoch 3/10\n",
      "1563/1563 [==============================] - 8s 5ms/step - loss: 0.1400 - accuracy: 0.9626 - val_loss: 0.1215 - val_accuracy: 0.9686\n",
      "Epoch 4/10\n",
      "1563/1563 [==============================] - 8s 5ms/step - loss: 0.1248 - accuracy: 0.9679 - val_loss: 0.1093 - val_accuracy: 0.9738\n",
      "Epoch 5/10\n",
      "1563/1563 [==============================] - 8s 5ms/step - loss: 0.1187 - accuracy: 0.9706 - val_loss: 0.1175 - val_accuracy: 0.9746\n",
      "Epoch 6/10\n",
      "1563/1563 [==============================] - 8s 5ms/step - loss: 0.1128 - accuracy: 0.9727 - val_loss: 0.1134 - val_accuracy: 0.9760\n",
      "Epoch 7/10\n",
      "1563/1563 [==============================] - 8s 5ms/step - loss: 0.1063 - accuracy: 0.9746 - val_loss: 0.1187 - val_accuracy: 0.9750\n",
      "Epoch 8/10\n",
      "1563/1563 [==============================] - 8s 5ms/step - loss: 0.1002 - accuracy: 0.9768 - val_loss: 0.1181 - val_accuracy: 0.9764\n",
      "Epoch 9/10\n",
      "1563/1563 [==============================] - 8s 5ms/step - loss: 0.0958 - accuracy: 0.9777 - val_loss: 0.1153 - val_accuracy: 0.9770\n",
      "Epoch 10/10\n",
      "1563/1563 [==============================] - 8s 5ms/step - loss: 0.0914 - accuracy: 0.9786 - val_loss: 0.1073 - val_accuracy: 0.9781\n"
     ]
    },
    {
     "data": {
      "text/plain": [
       "<keras.callbacks.History at 0x21e5a469730>"
      ]
     },
     "execution_count": 35,
     "metadata": {},
     "output_type": "execute_result"
    }
   ],
   "source": [
    "callbacks_list = [\n",
    "    keras.callbacks.EarlyStopping(\n",
    "        monitor=\"val_accuracy\",\n",
    "        patience=2,\n",
    "    ),\n",
    "    keras.callbacks.ModelCheckpoint(\n",
    "        filepath=\"checkpoint_path.keras\",\n",
    "        monitor=\"val_loss\",\n",
    "        save_best_only=True,\n",
    "    )\n",
    "]\n",
    "model = get_mnist_model()\n",
    "model.compile(optimizer=\"rmsprop\",\n",
    "              loss=\"sparse_categorical_crossentropy\",\n",
    "              metrics=[\"accuracy\"])\n",
    "model.fit(train_images, train_labels,\n",
    "          epochs=10,\n",
    "          callbacks=callbacks_list,\n",
    "          validation_data=(val_images, val_labels))"
   ]
  },
  {
   "cell_type": "code",
   "execution_count": 36,
   "id": "d0d9f6a0",
   "metadata": {},
   "outputs": [],
   "source": [
    "model = keras.models.load_model(\"checkpoint_path.keras\")"
   ]
  },
  {
   "cell_type": "code",
   "execution_count": 37,
   "id": "a4674a06",
   "metadata": {},
   "outputs": [],
   "source": [
    "from matplotlib import pyplot as plt\n",
    "\n",
    "class LossHistory(keras.callbacks.Callback):\n",
    "    def on_train_begin(self, logs):\n",
    "        self.per_batch_losses = []\n",
    "\n",
    "    def on_batch_end(self, batch, logs):\n",
    "        self.per_batch_losses.append(logs.get(\"loss\"))\n",
    "\n",
    "    def on_epoch_end(self, epoch, logs):\n",
    "        plt.clf()\n",
    "        plt.plot(range(len(self.per_batch_losses)), self.per_batch_losses,\n",
    "                 label=\"Training loss for each batch\")\n",
    "        plt.xlabel(f\"Batch (epoch {epoch})\")\n",
    "        plt.ylabel(\"Loss\")\n",
    "        plt.legend()\n",
    "        plt.savefig(f\"plot_at_epoch_{epoch}\")\n",
    "        self.per_batch_losses = []"
   ]
  },
  {
   "cell_type": "code",
   "execution_count": 38,
   "id": "ad1c32d9",
   "metadata": {},
   "outputs": [
    {
     "name": "stdout",
     "output_type": "stream",
     "text": [
      "Epoch 1/10\n",
      "1563/1563 [==============================] - 9s 6ms/step - loss: 0.2933 - accuracy: 0.9133 - val_loss: 0.1485 - val_accuracy: 0.9573\n",
      "Epoch 2/10\n",
      "1563/1563 [==============================] - 9s 6ms/step - loss: 0.1646 - accuracy: 0.9539 - val_loss: 0.1178 - val_accuracy: 0.9688\n",
      "Epoch 3/10\n",
      "1563/1563 [==============================] - 9s 6ms/step - loss: 0.1377 - accuracy: 0.9634 - val_loss: 0.1148 - val_accuracy: 0.9727\n",
      "Epoch 4/10\n",
      "1563/1563 [==============================] - 9s 5ms/step - loss: 0.1245 - accuracy: 0.9676 - val_loss: 0.1100 - val_accuracy: 0.9745\n",
      "Epoch 5/10\n",
      "1563/1563 [==============================] - 8s 5ms/step - loss: 0.1163 - accuracy: 0.9707 - val_loss: 0.1132 - val_accuracy: 0.9744\n",
      "Epoch 6/10\n",
      "1563/1563 [==============================] - 8s 5ms/step - loss: 0.1074 - accuracy: 0.9735 - val_loss: 0.1138 - val_accuracy: 0.9747\n",
      "Epoch 7/10\n",
      "1563/1563 [==============================] - 9s 5ms/step - loss: 0.1042 - accuracy: 0.9754 - val_loss: 0.1121 - val_accuracy: 0.9773\n",
      "Epoch 8/10\n",
      "1563/1563 [==============================] - 8s 5ms/step - loss: 0.1024 - accuracy: 0.9760 - val_loss: 0.1254 - val_accuracy: 0.9756\n",
      "Epoch 9/10\n",
      "1563/1563 [==============================] - 8s 5ms/step - loss: 0.0982 - accuracy: 0.9774 - val_loss: 0.1159 - val_accuracy: 0.9784\n",
      "Epoch 10/10\n",
      "1563/1563 [==============================] - 8s 5ms/step - loss: 0.0943 - accuracy: 0.9792 - val_loss: 0.1129 - val_accuracy: 0.9786\n"
     ]
    },
    {
     "data": {
      "text/plain": [
       "<keras.callbacks.History at 0x21e5a4c71f0>"
      ]
     },
     "execution_count": 38,
     "metadata": {},
     "output_type": "execute_result"
    },
    {
     "data": {
      "image/png": "[encoded data removed]",
      "text/plain": [
       "<Figure size 432x288 with 1 Axes>"
      ]
     },
     "metadata": {
      "needs_background": "light"
     },
     "output_type": "display_data"
    }
   ],
   "source": [
    "model = get_mnist_model()\n",
    "model.compile(optimizer=\"rmsprop\",\n",
    "              loss=\"sparse_categorical_crossentropy\",\n",
    "              metrics=[\"accuracy\"])\n",
    "model.fit(train_images, train_labels,\n",
    "          epochs=10,\n",
    "          callbacks=[LossHistory()],\n",
    "          validation_data=(val_images, val_labels))"
   ]
  },
  {
   "cell_type": "code",
   "execution_count": 39,
   "id": "ee6abd44",
   "metadata": {},
   "outputs": [
    {
     "name": "stdout",
     "output_type": "stream",
     "text": [
      "Epoch 1/10\n",
      "1563/1563 [==============================] - 9s 6ms/step - loss: 0.2959 - accuracy: 0.9127 - val_loss: 0.1421 - val_accuracy: 0.9602\n",
      "Epoch 2/10\n",
      "1563/1563 [==============================] - 8s 5ms/step - loss: 0.1629 - accuracy: 0.9539 - val_loss: 0.1284 - val_accuracy: 0.9657\n",
      "Epoch 3/10\n",
      "1563/1563 [==============================] - 8s 5ms/step - loss: 0.1417 - accuracy: 0.9617 - val_loss: 0.1090 - val_accuracy: 0.9715\n",
      "Epoch 4/10\n",
      "1563/1563 [==============================] - 9s 6ms/step - loss: 0.1237 - accuracy: 0.9687 - val_loss: 0.1139 - val_accuracy: 0.9737\n",
      "Epoch 5/10\n",
      "1563/1563 [==============================] - 9s 6ms/step - loss: 0.1153 - accuracy: 0.9708 - val_loss: 0.1100 - val_accuracy: 0.9748\n",
      "Epoch 6/10\n",
      "1563/1563 [==============================] - 8s 5ms/step - loss: 0.1132 - accuracy: 0.9730 - val_loss: 0.1107 - val_accuracy: 0.9759\n",
      "Epoch 7/10\n",
      "1563/1563 [==============================] - 9s 5ms/step - loss: 0.1072 - accuracy: 0.9742 - val_loss: 0.1171 - val_accuracy: 0.9756\n",
      "Epoch 8/10\n",
      "1563/1563 [==============================] - 9s 5ms/step - loss: 0.1019 - accuracy: 0.9756 - val_loss: 0.1183 - val_accuracy: 0.9774\n",
      "Epoch 9/10\n",
      "1563/1563 [==============================] - 8s 5ms/step - loss: 0.0996 - accuracy: 0.9776 - val_loss: 0.1201 - val_accuracy: 0.9787\n",
      "Epoch 10/10\n",
      "1563/1563 [==============================] - 8s 5ms/step - loss: 0.0965 - accuracy: 0.9783 - val_loss: 0.1317 - val_accuracy: 0.9772\n"
     ]
    },
    {
     "data": {
      "text/plain": [
       "<keras.callbacks.History at 0x21e5a1cd9a0>"
      ]
     },
     "execution_count": 39,
     "metadata": {},
     "output_type": "execute_result"
    }
   ],
   "source": [
    "model = get_mnist_model()\n",
    "model.compile(optimizer=\"rmsprop\",\n",
    "              loss=\"sparse_categorical_crossentropy\",\n",
    "              metrics=[\"accuracy\"])\n",
    "\n",
    "tensorboard = keras.callbacks.TensorBoard(\n",
    "    log_dir=\"/full_path_to_your_log_dir\",\n",
    ")\n",
    "model.fit(train_images, train_labels,\n",
    "          epochs=10,\n",
    "          validation_data=(val_images, val_labels),\n",
    "          callbacks=[tensorboard])"
   ]
  },
  {
   "cell_type": "code",
   "execution_count": 40,
   "id": "4249718f",
   "metadata": {},
   "outputs": [
    {
     "data": {
      "text/plain": [
       "Reusing TensorBoard on port 6006 (pid 20400), started 27 days, 18:07:47 ago. (Use '!kill 20400' to kill it.)"
      ]
     },
     "metadata": {},
     "output_type": "display_data"
    },
    {
     "data": {
      "text/html": [
       "\n",
       "      <iframe id=\"tensorboard-frame-bb0d0f5d96b8fd9a\" width=\"100%\" height=\"800\" frameborder=\"0\">\n",
       "      </iframe>\n",
       "      <script>\n",
       "        (function() {\n",
       "          const frame = document.getElementById(\"tensorboard-frame-bb0d0f5d96b8fd9a\");\n",
       "          const url = new URL(\"/\", window.location);\n",
       "          const port = 6006;\n",
       "          if (port) {\n",
       "            url.port = port;\n",
       "          }\n",
       "          frame.src = url;\n",
       "        })();\n",
       "      </script>\n",
       "    "
      ],
      "text/plain": [
       "<IPython.core.display.HTML object>"
      ]
     },
     "metadata": {},
     "output_type": "display_data"
    }
   ],
   "source": [
    "%load_ext tensorboard\n",
    "%tensorboard --logdir /full_path_to_your_log_dir"
   ]
  },
  {
   "cell_type": "code",
   "execution_count": 41,
   "id": "73fd8f27",
   "metadata": {},
   "outputs": [
    {
     "name": "stdout",
     "output_type": "stream",
     "text": [
      "result: 1.00\n"
     ]
    }
   ],
   "source": [
    "metric = keras.metrics.SparseCategoricalAccuracy()\n",
    "targets = [0, 1, 2]\n",
    "predictions = [[1, 0, 0], [0, 1, 0], [0, 0, 1]]\n",
    "metric.update_state(targets, predictions)\n",
    "current_result = metric.result()\n",
    "print(f\"result: {current_result:.2f}\")"
   ]
  },
  {
   "cell_type": "code",
   "execution_count": 42,
   "id": "f2db8acb",
   "metadata": {},
   "outputs": [
    {
     "name": "stdout",
     "output_type": "stream",
     "text": [
      "Mean of values: 2.00\n"
     ]
    }
   ],
   "source": [
    "values = [0, 1, 2, 3, 4]\n",
    "mean_tracker = keras.metrics.Mean()\n",
    "for value in values:\n",
    "    mean_tracker.update_state(value)\n",
    "print(f\"Mean of values: {mean_tracker.result():.2f}\")"
   ]
  },
  {
   "cell_type": "code",
   "execution_count": 43,
   "id": "adf09837",
   "metadata": {},
   "outputs": [],
   "source": [
    "model = get_mnist_model()\n",
    "\n",
    "loss_fn = keras.losses.SparseCategoricalCrossentropy()\n",
    "optimizer = keras.optimizers.RMSprop()\n",
    "metrics = [keras.metrics.SparseCategoricalAccuracy()]\n",
    "loss_tracking_metric = keras.metrics.Mean()\n",
    "\n",
    "def train_step(inputs, targets):\n",
    "    with tf.GradientTape() as tape:\n",
    "        predictions = model(inputs, training=True)\n",
    "        loss = loss_fn(targets, predictions)\n",
    "    gradients = tape.gradient(loss, model.trainable_weights)\n",
    "    optimizer.apply_gradients(zip(gradients, model.trainable_weights))\n",
    "\n",
    "    logs = {}\n",
    "    for metric in metrics:\n",
    "        metric.update_state(targets, predictions)\n",
    "        logs[metric.name] = metric.result()\n",
    "\n",
    "    loss_tracking_metric.update_state(loss)\n",
    "    logs[\"loss\"] = loss_tracking_metric.result()\n",
    "    return logs"
   ]
  },
  {
   "cell_type": "code",
   "execution_count": 44,
   "id": "ee625887",
   "metadata": {},
   "outputs": [],
   "source": [
    "def reset_metrics():\n",
    "    for metric in metrics:\n",
    "        metric.reset_state()\n",
    "    loss_tracking_metric.reset_state()"
   ]
  },
  {
   "cell_type": "code",
   "execution_count": 45,
   "id": "5005aae4",
   "metadata": {},
   "outputs": [
    {
     "name": "stdout",
     "output_type": "stream",
     "text": [
      "Results at the end of epoch 0\n",
      "...sparse_categorical_accuracy: 0.9150\n",
      "...loss: 0.2892\n",
      "Results at the end of epoch 1\n",
      "...sparse_categorical_accuracy: 0.9539\n",
      "...loss: 0.1617\n",
      "Results at the end of epoch 2\n",
      "...sparse_categorical_accuracy: 0.9621\n",
      "...loss: 0.1404\n"
     ]
    }
   ],
   "source": [
    "training_dataset = tf.data.Dataset.from_tensor_slices((train_images, train_labels))\n",
    "training_dataset = training_dataset.batch(32)\n",
    "epochs = 3\n",
    "for epoch in range(epochs):\n",
    "    reset_metrics()\n",
    "    for inputs_batch, targets_batch in training_dataset:\n",
    "        logs = train_step(inputs_batch, targets_batch)\n",
    "    print(f\"Results at the end of epoch {epoch}\")\n",
    "    for key, value in logs.items():\n",
    "        print(f\"...{key}: {value:.4f}\")"
   ]
  },
  {
   "cell_type": "code",
   "execution_count": 46,
   "id": "7d36604a",
   "metadata": {},
   "outputs": [
    {
     "name": "stdout",
     "output_type": "stream",
     "text": [
      "Evaluation results:\n",
      "...val_sparse_categorical_accuracy: 0.9647\n",
      "...val_loss: 0.1458\n"
     ]
    }
   ],
   "source": [
    "def test_step(inputs, targets):\n",
    "    predictions = model(inputs, training=False)\n",
    "    loss = loss_fn(targets, predictions)\n",
    "\n",
    "    logs = {}\n",
    "    for metric in metrics:\n",
    "        metric.update_state(targets, predictions)\n",
    "        logs[\"val_\" + metric.name] = metric.result()\n",
    "\n",
    "    loss_tracking_metric.update_state(loss)\n",
    "    logs[\"val_loss\"] = loss_tracking_metric.result()\n",
    "    return logs\n",
    "\n",
    "val_dataset = tf.data.Dataset.from_tensor_slices((val_images, val_labels))\n",
    "val_dataset = val_dataset.batch(32)\n",
    "reset_metrics()\n",
    "for inputs_batch, targets_batch in val_dataset:\n",
    "    logs = test_step(inputs_batch, targets_batch)\n",
    "print(\"Evaluation results:\")\n",
    "for key, value in logs.items():\n",
    "    print(f\"...{key}: {value:.4f}\")"
   ]
  },
  {
   "cell_type": "code",
   "execution_count": 47,
   "id": "d573fe8a",
   "metadata": {},
   "outputs": [
    {
     "name": "stdout",
     "output_type": "stream",
     "text": [
      "Evaluation results:\n",
      "...val_sparse_categorical_accuracy: 0.9647\n",
      "...val_loss: 0.1458\n"
     ]
    }
   ],
   "source": [
    "@tf.function\n",
    "def test_step(inputs, targets):\n",
    "    predictions = model(inputs, training=False)\n",
    "    loss = loss_fn(targets, predictions)\n",
    "\n",
    "    logs = {}\n",
    "    for metric in metrics:\n",
    "        metric.update_state(targets, predictions)\n",
    "        logs[\"val_\" + metric.name] = metric.result()\n",
    "\n",
    "    loss_tracking_metric.update_state(loss)\n",
    "    logs[\"val_loss\"] = loss_tracking_metric.result()\n",
    "    return logs\n",
    "\n",
    "val_dataset = tf.data.Dataset.from_tensor_slices((val_images, val_labels))\n",
    "val_dataset = val_dataset.batch(32)\n",
    "reset_metrics()\n",
    "for inputs_batch, targets_batch in val_dataset:\n",
    "    logs = test_step(inputs_batch, targets_batch)\n",
    "print(\"Evaluation results:\")\n",
    "for key, value in logs.items():\n",
    "    print(f\"...{key}: {value:.4f}\")"
   ]
  },
  {
   "cell_type": "code",
   "execution_count": 48,
   "id": "48ca209c",
   "metadata": {},
   "outputs": [],
   "source": [
    "loss_fn = keras.losses.SparseCategoricalCrossentropy()\n",
    "loss_tracker = keras.metrics.Mean(name=\"loss\")\n",
    "\n",
    "class CustomModel(keras.Model):\n",
    "    def train_step(self, data):\n",
    "        inputs, targets = data\n",
    "        with tf.GradientTape() as tape:\n",
    "            predictions = self(inputs, training=True)\n",
    "            loss = loss_fn(targets, predictions)\n",
    "        gradients = tape.gradient(loss, self.trainable_weights)\n",
    "        self.optimizer.apply_gradients(zip(gradients, self.trainable_weights))\n",
    "\n",
    "        loss_tracker.update_state(loss)\n",
    "        return {\"loss\": loss_tracker.result()}\n",
    "\n",
    "    @property\n",
    "    def metrics(self):\n",
    "        return [loss_tracker]"
   ]
  },
  {
   "cell_type": "code",
   "execution_count": 49,
   "id": "5a486290",
   "metadata": {},
   "outputs": [
    {
     "name": "stdout",
     "output_type": "stream",
     "text": [
      "Epoch 1/3\n",
      "1563/1563 [==============================] - 8s 5ms/step - loss: 0.2981\n",
      "Epoch 2/3\n",
      "1563/1563 [==============================] - 8s 5ms/step - loss: 0.1673\n",
      "Epoch 3/3\n",
      "1563/1563 [==============================] - 8s 5ms/step - loss: 0.1405\n"
     ]
    },
    {
     "data": {
      "text/plain": [
       "<keras.callbacks.History at 0x21e6275e790>"
      ]
     },
     "execution_count": 49,
     "metadata": {},
     "output_type": "execute_result"
    }
   ],
   "source": [
    "inputs = keras.Input(shape=(28 * 28,))\n",
    "features = layers.Dense(512, activation=\"relu\")(inputs)\n",
    "features = layers.Dropout(0.5)(features)\n",
    "outputs = layers.Dense(10, activation=\"softmax\")(features)\n",
    "model = CustomModel(inputs, outputs)\n",
    "\n",
    "model.compile(optimizer=keras.optimizers.RMSprop())\n",
    "model.fit(train_images, train_labels, epochs=3)"
   ]
  },
  {
   "cell_type": "code",
   "execution_count": 50,
   "id": "b8aeb982",
   "metadata": {},
   "outputs": [],
   "source": [
    "class CustomModel(keras.Model):\n",
    "    def train_step(self, data):\n",
    "        inputs, targets = data\n",
    "        with tf.GradientTape() as tape:\n",
    "            predictions = self(inputs, training=True)\n",
    "            loss = self.compiled_loss(targets, predictions)\n",
    "        gradients = tape.gradient(loss, self.trainable_weights)\n",
    "        self.optimizer.apply_gradients(zip(gradients, self.trainable_weights))\n",
    "        self.compiled_metrics.update_state(targets, predictions)\n",
    "        return {m.name: m.result() for m in self.metrics}"
   ]
  },
  {
   "cell_type": "code",
   "execution_count": 51,
   "id": "b1d1645a",
   "metadata": {},
   "outputs": [
    {
     "name": "stdout",
     "output_type": "stream",
     "text": [
      "Epoch 1/3\n",
      "1563/1563 [==============================] - 8s 5ms/step - loss: 0.2924 - sparse_categorical_accuracy: 0.9132\n",
      "Epoch 2/3\n",
      "1563/1563 [==============================] - 8s 5ms/step - loss: 0.1638 - sparse_categorical_accuracy: 0.9541\n",
      "Epoch 3/3\n",
      "1563/1563 [==============================] - 8s 5ms/step - loss: 0.1388 - sparse_categorical_accuracy: 0.9634\n"
     ]
    },
    {
     "data": {
      "text/plain": [
       "<keras.callbacks.History at 0x21e62c50d60>"
      ]
     },
     "execution_count": 51,
     "metadata": {},
     "output_type": "execute_result"
    }
   ],
   "source": [
    "inputs = keras.Input(shape=(28 * 28,))\n",
    "features = layers.Dense(512, activation=\"relu\")(inputs)\n",
    "features = layers.Dropout(0.5)(features)\n",
    "outputs = layers.Dense(10, activation=\"softmax\")(features)\n",
    "model = CustomModel(inputs, outputs)\n",
    "\n",
    "model.compile(optimizer=keras.optimizers.RMSprop(),\n",
    "              loss=keras.losses.SparseCategoricalCrossentropy(),\n",
    "              metrics=[keras.metrics.SparseCategoricalAccuracy()])\n",
    "model.fit(train_images, train_labels, epochs=3)"
   ]
  },
  {
   "cell_type": "code",
   "execution_count": null,
   "id": "e823ad99",
   "metadata": {},
   "outputs": [],
   "source": []
  }
 ],
 "metadata": {
  "kernelspec": {
   "display_name": "Python 3 (ipykernel)",
   "language": "python",
   "name": "python3"
  },
  "language_info": {
   "codemirror_mode": {
    "name": "ipython",
    "version": 3
   },
   "file_extension": ".py",
   "mimetype": "text/x-python",
   "name": "python",
   "nbconvert_exporter": "python",
   "pygments_lexer": "ipython3",
   "version": "3.9.7"
  }
 },
 "nbformat": 4,
 "nbformat_minor": 5
}
